{
  "nbformat": 4,
  "nbformat_minor": 0,
  "metadata": {
    "colab": {
      "name": "ML lab 03.ipynb",
      "provenance": [],
      "authorship_tag": "ABX9TyNl8JeOFDO07Pf0T9wXHbxP",
      "include_colab_link": true
    },
    "kernelspec": {
      "name": "python3",
      "display_name": "Python 3"
    }
  },
  "cells": [
    {
      "cell_type": "markdown",
      "metadata": {
        "id": "view-in-github",
        "colab_type": "text"
      },
      "source": [
        "<a href=\"https://colab.research.google.com/github/Ventlious/learn-tensorflow/blob/master/ML_lab_03.ipynb\" target=\"_parent\"><img src=\"https://colab.research.google.com/assets/colab-badge.svg\" alt=\"Open In Colab\"/></a>"
      ]
    },
    {
      "cell_type": "code",
      "metadata": {
        "id": "V9c3HQ39Hsoe",
        "colab_type": "code",
        "colab": {}
      },
      "source": [
        "import numpy as np\n",
        "import tensorflow as tf\n",
        "import matplotlib.pyplot as plt"
      ],
      "execution_count": 0,
      "outputs": []
    },
    {
      "cell_type": "code",
      "metadata": {
        "id": "9cejRAP1UST0",
        "colab_type": "code",
        "colab": {}
      },
      "source": [
        "x_train = [1, 2, 3, 4]\n",
        "y_train = [0, -1, -2, -3]"
      ],
      "execution_count": 0,
      "outputs": []
    },
    {
      "cell_type": "code",
      "metadata": {
        "id": "FLUpR_geUgo9",
        "colab_type": "code",
        "colab": {
          "base_uri": "https://localhost:8080/",
          "height": 197
        },
        "outputId": "ed02dd0e-f5ac-45c0-a3a3-f3ee33adf85e"
      },
      "source": [
        "tf.model = tf.keras.Sequential()\n",
        "tf.model.add(tf.keras.layers.Dense(units=1, input_dim=1))\n",
        "\n",
        "sgd = tf.keras.optimizers.SGD(lr=0.1)\n",
        "tf.model.compile(loss='mse', optimizer=sgd)\n",
        "\n",
        "tf.model.summary()"
      ],
      "execution_count": 3,
      "outputs": [
        {
          "output_type": "stream",
          "text": [
            "Model: \"sequential\"\n",
            "_________________________________________________________________\n",
            "Layer (type)                 Output Shape              Param #   \n",
            "=================================================================\n",
            "dense (Dense)                (None, 1)                 2         \n",
            "=================================================================\n",
            "Total params: 2\n",
            "Trainable params: 2\n",
            "Non-trainable params: 0\n",
            "_________________________________________________________________\n"
          ],
          "name": "stdout"
        }
      ]
    },
    {
      "cell_type": "code",
      "metadata": {
        "id": "Jj0eXAtPUqmF",
        "colab_type": "code",
        "colab": {
          "base_uri": "https://localhost:8080/",
          "height": 1000
        },
        "outputId": "ebde719e-3893-4d51-b81e-94bcb4c956e7"
      },
      "source": [
        "history = tf.model.fit(x_train, y_train, epochs=100)"
      ],
      "execution_count": 5,
      "outputs": [
        {
          "output_type": "stream",
          "text": [
            "Epoch 1/100\n",
            "1/1 [==============================] - 0s 2ms/step - loss: 9.9676e-04\n",
            "Epoch 2/100\n",
            "1/1 [==============================] - 0s 1ms/step - loss: 9.3797e-04\n",
            "Epoch 3/100\n",
            "1/1 [==============================] - 0s 1ms/step - loss: 8.8264e-04\n",
            "Epoch 4/100\n",
            "1/1 [==============================] - 0s 1ms/step - loss: 8.3058e-04\n",
            "Epoch 5/100\n",
            "1/1 [==============================] - 0s 1ms/step - loss: 7.8159e-04\n",
            "Epoch 6/100\n",
            "1/1 [==============================] - 0s 1ms/step - loss: 7.3550e-04\n",
            "Epoch 7/100\n",
            "1/1 [==============================] - 0s 1ms/step - loss: 6.9211e-04\n",
            "Epoch 8/100\n",
            "1/1 [==============================] - 0s 1ms/step - loss: 6.5129e-04\n",
            "Epoch 9/100\n",
            "1/1 [==============================] - 0s 1ms/step - loss: 6.1288e-04\n",
            "Epoch 10/100\n",
            "1/1 [==============================] - 0s 1ms/step - loss: 5.7673e-04\n",
            "Epoch 11/100\n",
            "1/1 [==============================] - 0s 1ms/step - loss: 5.4271e-04\n",
            "Epoch 12/100\n",
            "1/1 [==============================] - 0s 1ms/step - loss: 5.1070e-04\n",
            "Epoch 13/100\n",
            "1/1 [==============================] - 0s 1ms/step - loss: 4.8058e-04\n",
            "Epoch 14/100\n",
            "1/1 [==============================] - 0s 1ms/step - loss: 4.5223e-04\n",
            "Epoch 15/100\n",
            "1/1 [==============================] - 0s 2ms/step - loss: 4.2556e-04\n",
            "Epoch 16/100\n",
            "1/1 [==============================] - 0s 1ms/step - loss: 4.0046e-04\n",
            "Epoch 17/100\n",
            "1/1 [==============================] - 0s 1ms/step - loss: 3.7684e-04\n",
            "Epoch 18/100\n",
            "1/1 [==============================] - 0s 1ms/step - loss: 3.5461e-04\n",
            "Epoch 19/100\n",
            "1/1 [==============================] - 0s 2ms/step - loss: 3.3370e-04\n",
            "Epoch 20/100\n",
            "1/1 [==============================] - 0s 1ms/step - loss: 3.1402e-04\n",
            "Epoch 21/100\n",
            "1/1 [==============================] - 0s 2ms/step - loss: 2.9550e-04\n",
            "Epoch 22/100\n",
            "1/1 [==============================] - 0s 1ms/step - loss: 2.7807e-04\n",
            "Epoch 23/100\n",
            "1/1 [==============================] - 0s 1ms/step - loss: 2.6167e-04\n",
            "Epoch 24/100\n",
            "1/1 [==============================] - 0s 1ms/step - loss: 2.4623e-04\n",
            "Epoch 25/100\n",
            "1/1 [==============================] - 0s 1ms/step - loss: 2.3171e-04\n",
            "Epoch 26/100\n",
            "1/1 [==============================] - 0s 1ms/step - loss: 2.1804e-04\n",
            "Epoch 27/100\n",
            "1/1 [==============================] - 0s 1ms/step - loss: 2.0518e-04\n",
            "Epoch 28/100\n",
            "1/1 [==============================] - 0s 1ms/step - loss: 1.9308e-04\n",
            "Epoch 29/100\n",
            "1/1 [==============================] - 0s 1ms/step - loss: 1.8169e-04\n",
            "Epoch 30/100\n",
            "1/1 [==============================] - 0s 1ms/step - loss: 1.7097e-04\n",
            "Epoch 31/100\n",
            "1/1 [==============================] - 0s 1ms/step - loss: 1.6089e-04\n",
            "Epoch 32/100\n",
            "1/1 [==============================] - 0s 1ms/step - loss: 1.5140e-04\n",
            "Epoch 33/100\n",
            "1/1 [==============================] - 0s 1ms/step - loss: 1.4247e-04\n",
            "Epoch 34/100\n",
            "1/1 [==============================] - 0s 1ms/step - loss: 1.3407e-04\n",
            "Epoch 35/100\n",
            "1/1 [==============================] - 0s 1ms/step - loss: 1.2616e-04\n",
            "Epoch 36/100\n",
            "1/1 [==============================] - 0s 3ms/step - loss: 1.1872e-04\n",
            "Epoch 37/100\n",
            "1/1 [==============================] - 0s 2ms/step - loss: 1.1172e-04\n",
            "Epoch 38/100\n",
            "1/1 [==============================] - 0s 1ms/step - loss: 1.0513e-04\n",
            "Epoch 39/100\n",
            "1/1 [==============================] - 0s 1ms/step - loss: 9.8926e-05\n",
            "Epoch 40/100\n",
            "1/1 [==============================] - 0s 1ms/step - loss: 9.3091e-05\n",
            "Epoch 41/100\n",
            "1/1 [==============================] - 0s 2ms/step - loss: 8.7600e-05\n",
            "Epoch 42/100\n",
            "1/1 [==============================] - 0s 3ms/step - loss: 8.2433e-05\n",
            "Epoch 43/100\n",
            "1/1 [==============================] - 0s 1ms/step - loss: 7.7572e-05\n",
            "Epoch 44/100\n",
            "1/1 [==============================] - 0s 1ms/step - loss: 7.2996e-05\n",
            "Epoch 45/100\n",
            "1/1 [==============================] - 0s 2ms/step - loss: 6.8690e-05\n",
            "Epoch 46/100\n",
            "1/1 [==============================] - 0s 1ms/step - loss: 6.4639e-05\n",
            "Epoch 47/100\n",
            "1/1 [==============================] - 0s 2ms/step - loss: 6.0826e-05\n",
            "Epoch 48/100\n",
            "1/1 [==============================] - 0s 1ms/step - loss: 5.7239e-05\n",
            "Epoch 49/100\n",
            "1/1 [==============================] - 0s 1ms/step - loss: 5.3863e-05\n",
            "Epoch 50/100\n",
            "1/1 [==============================] - 0s 1ms/step - loss: 5.0687e-05\n",
            "Epoch 51/100\n",
            "1/1 [==============================] - 0s 1ms/step - loss: 4.7697e-05\n",
            "Epoch 52/100\n",
            "1/1 [==============================] - 0s 1ms/step - loss: 4.4883e-05\n",
            "Epoch 53/100\n",
            "1/1 [==============================] - 0s 1ms/step - loss: 4.2236e-05\n",
            "Epoch 54/100\n",
            "1/1 [==============================] - 0s 2ms/step - loss: 3.9745e-05\n",
            "Epoch 55/100\n",
            "1/1 [==============================] - 0s 3ms/step - loss: 3.7401e-05\n",
            "Epoch 56/100\n",
            "1/1 [==============================] - 0s 1ms/step - loss: 3.5195e-05\n",
            "Epoch 57/100\n",
            "1/1 [==============================] - 0s 1ms/step - loss: 3.3119e-05\n",
            "Epoch 58/100\n",
            "1/1 [==============================] - 0s 2ms/step - loss: 3.1165e-05\n",
            "Epoch 59/100\n",
            "1/1 [==============================] - 0s 2ms/step - loss: 2.9327e-05\n",
            "Epoch 60/100\n",
            "1/1 [==============================] - 0s 2ms/step - loss: 2.7597e-05\n",
            "Epoch 61/100\n",
            "1/1 [==============================] - 0s 2ms/step - loss: 2.5970e-05\n",
            "Epoch 62/100\n",
            "1/1 [==============================] - 0s 1ms/step - loss: 2.4438e-05\n",
            "Epoch 63/100\n",
            "1/1 [==============================] - 0s 2ms/step - loss: 2.2996e-05\n",
            "Epoch 64/100\n",
            "1/1 [==============================] - 0s 2ms/step - loss: 2.1640e-05\n",
            "Epoch 65/100\n",
            "1/1 [==============================] - 0s 1ms/step - loss: 2.0364e-05\n",
            "Epoch 66/100\n",
            "1/1 [==============================] - 0s 2ms/step - loss: 1.9162e-05\n",
            "Epoch 67/100\n",
            "1/1 [==============================] - 0s 2ms/step - loss: 1.8032e-05\n",
            "Epoch 68/100\n",
            "1/1 [==============================] - 0s 1ms/step - loss: 1.6969e-05\n",
            "Epoch 69/100\n",
            "1/1 [==============================] - 0s 1ms/step - loss: 1.5968e-05\n",
            "Epoch 70/100\n",
            "1/1 [==============================] - 0s 2ms/step - loss: 1.5026e-05\n",
            "Epoch 71/100\n",
            "1/1 [==============================] - 0s 2ms/step - loss: 1.4140e-05\n",
            "Epoch 72/100\n",
            "1/1 [==============================] - 0s 1ms/step - loss: 1.3306e-05\n",
            "Epoch 73/100\n",
            "1/1 [==============================] - 0s 1ms/step - loss: 1.2521e-05\n",
            "Epoch 74/100\n",
            "1/1 [==============================] - 0s 2ms/step - loss: 1.1783e-05\n",
            "Epoch 75/100\n",
            "1/1 [==============================] - 0s 1ms/step - loss: 1.1087e-05\n",
            "Epoch 76/100\n",
            "1/1 [==============================] - 0s 1ms/step - loss: 1.0434e-05\n",
            "Epoch 77/100\n",
            "1/1 [==============================] - 0s 1ms/step - loss: 9.8182e-06\n",
            "Epoch 78/100\n",
            "1/1 [==============================] - 0s 1ms/step - loss: 9.2391e-06\n",
            "Epoch 79/100\n",
            "1/1 [==============================] - 0s 1ms/step - loss: 8.6944e-06\n",
            "Epoch 80/100\n",
            "1/1 [==============================] - 0s 3ms/step - loss: 8.1816e-06\n",
            "Epoch 81/100\n",
            "1/1 [==============================] - 0s 1ms/step - loss: 7.6990e-06\n",
            "Epoch 82/100\n",
            "1/1 [==============================] - 0s 1ms/step - loss: 7.2446e-06\n",
            "Epoch 83/100\n",
            "1/1 [==============================] - 0s 2ms/step - loss: 6.8175e-06\n",
            "Epoch 84/100\n",
            "1/1 [==============================] - 0s 2ms/step - loss: 6.4156e-06\n",
            "Epoch 85/100\n",
            "1/1 [==============================] - 0s 2ms/step - loss: 6.0371e-06\n",
            "Epoch 86/100\n",
            "1/1 [==============================] - 0s 1ms/step - loss: 5.6811e-06\n",
            "Epoch 87/100\n",
            "1/1 [==============================] - 0s 1ms/step - loss: 5.3459e-06\n",
            "Epoch 88/100\n",
            "1/1 [==============================] - 0s 1ms/step - loss: 5.0305e-06\n",
            "Epoch 89/100\n",
            "1/1 [==============================] - 0s 1ms/step - loss: 4.7340e-06\n",
            "Epoch 90/100\n",
            "1/1 [==============================] - 0s 2ms/step - loss: 4.4546e-06\n",
            "Epoch 91/100\n",
            "1/1 [==============================] - 0s 2ms/step - loss: 4.1919e-06\n",
            "Epoch 92/100\n",
            "1/1 [==============================] - 0s 2ms/step - loss: 3.9446e-06\n",
            "Epoch 93/100\n",
            "1/1 [==============================] - 0s 2ms/step - loss: 3.7120e-06\n",
            "Epoch 94/100\n",
            "1/1 [==============================] - 0s 2ms/step - loss: 3.4929e-06\n",
            "Epoch 95/100\n",
            "1/1 [==============================] - 0s 1ms/step - loss: 3.2870e-06\n",
            "Epoch 96/100\n",
            "1/1 [==============================] - 0s 2ms/step - loss: 3.0931e-06\n",
            "Epoch 97/100\n",
            "1/1 [==============================] - 0s 1ms/step - loss: 2.9106e-06\n",
            "Epoch 98/100\n",
            "1/1 [==============================] - 0s 1ms/step - loss: 2.7391e-06\n",
            "Epoch 99/100\n",
            "1/1 [==============================] - 0s 1ms/step - loss: 2.5774e-06\n",
            "Epoch 100/100\n",
            "1/1 [==============================] - 0s 1ms/step - loss: 2.4253e-06\n"
          ],
          "name": "stdout"
        }
      ]
    },
    {
      "cell_type": "code",
      "metadata": {
        "id": "3Z-eu_ZWUunv",
        "colab_type": "code",
        "colab": {
          "base_uri": "https://localhost:8080/",
          "height": 53
        },
        "outputId": "02a8ad8d-4a22-4701-f844-5beb50100a6c"
      },
      "source": [
        "y_predict = tf.model.predict(np.array([5,4]))\n",
        "print(y_predict)"
      ],
      "execution_count": 9,
      "outputs": [
        {
          "output_type": "stream",
          "text": [
            "[[-3.99741  ]\n",
            " [-2.9986675]]\n"
          ],
          "name": "stdout"
        }
      ]
    },
    {
      "cell_type": "code",
      "metadata": {
        "id": "0P-SoqzmVFch",
        "colab_type": "code",
        "colab": {
          "base_uri": "https://localhost:8080/",
          "height": 295
        },
        "outputId": "2687c357-4ac8-4567-88c3-ff644ede3118"
      },
      "source": [
        "plt.plot(history.history['loss'])\n",
        "plt.title('Model loss')\n",
        "plt.ylabel('Loss')\n",
        "plt.xlabel('Epoch')\n",
        "plt.legend(['Train', 'Test'], loc='upper left')\n",
        "plt.show()"
      ],
      "execution_count": 10,
      "outputs": [
        {
          "output_type": "display_data",
          "data": {
            "image/png": "[encoded data removed]",
            "text/plain": [
              "<Figure size 432x288 with 1 Axes>"
            ]
          },
          "metadata": {
            "tags": [],
            "needs_background": "light"
          }
        }
      ]
    }
  ]
}