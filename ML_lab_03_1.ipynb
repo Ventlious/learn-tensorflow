{
  "nbformat": 4,
  "nbformat_minor": 0,
  "metadata": {
    "colab": {
      "name": "ML lab 03_1.ipynb",
      "provenance": [],
      "collapsed_sections": [],
      "authorship_tag": "ABX9TyOE9qKZ/bpM1mLCzXG3vqj+",
      "include_colab_link": true
    },
    "kernelspec": {
      "name": "python3",
      "display_name": "Python 3"
    }
  },
  "cells": [
    {
      "cell_type": "markdown",
      "metadata": {
        "id": "view-in-github",
        "colab_type": "text"
      },
      "source": [
        "<a href=\"https://colab.research.google.com/github/Ventlious/learn-tensorflow/blob/master/ML_lab_03_1.ipynb\" target=\"_parent\"><img src=\"https://colab.research.google.com/assets/colab-badge.svg\" alt=\"Open In Colab\"/></a>"
      ]
    },
    {
      "cell_type": "code",
      "metadata": {
        "id": "_xVnDPJUVwpq",
        "colab_type": "code",
        "colab": {}
      },
      "source": [
        "import tensorflow as tf"
      ],
      "execution_count": 0,
      "outputs": []
    },
    {
      "cell_type": "code",
      "metadata": {
        "id": "CT8jyYcFV8IP",
        "colab_type": "code",
        "colab": {}
      },
      "source": [
        "x_data = [1,2,3,4,5]\n",
        "y_data = [20,40,60,80,100]\n",
        "W = tf.Variable(tf.random.normal([1]), name='weight')\n",
        "lr = 0.1"
      ],
      "execution_count": 0,
      "outputs": []
    },
    {
      "cell_type": "code",
      "metadata": {
        "id": "XonnOrNDXC4z",
        "colab_type": "code",
        "colab": {}
      },
      "source": [
        "def update(X,Y):\n",
        "  hypo = X * W\n",
        "  cost = tf.reduce_sum(tf.square(hypo - Y))\n",
        "  gradient = tf.reduce_mean((W * X - Y) * X)\n",
        "  descent = W - lr * gradient\n",
        "  W.assign(descent)\n",
        "  print(step,\" | \",cost.numpy(),\" | \",hypo.numpy(),' | ',gradient.numpy(),' | ',W.numpy())"
      ],
      "execution_count": 0,
      "outputs": []
    },
    {
      "cell_type": "code",
      "metadata": {
        "id": "JNros2DhX7QZ",
        "colab_type": "code",
        "outputId": "8b89e57f-1edd-4567-b069-e37e5a4d31fc",
        "colab": {
          "base_uri": "https://localhost:8080/",
          "height": 197
        }
      },
      "source": [
        "for step in range(10):\n",
        "  update(x_data,y_data)"
      ],
      "execution_count": 7,
      "outputs": [
        {
          "output_type": "stream",
          "text": [
            "0  |  221.56503  |  [ 22.007101  44.014202  66.0213    88.028404 110.03551 ]  |  22.078114  |  [19.79929]\n",
            "1  |  2.215662  |  [19.79929  39.59858  59.39787  79.19716  98.996445]  |  -2.207817  |  [20.020071]\n",
            "2  |  0.022156695  |  [ 20.020071  40.040142  60.06021   80.080284 100.10036 ]  |  0.22078209  |  [19.997993]\n",
            "3  |  0.00022143911  |  [19.997993 39.995987 59.99398  79.991974 99.98997 ]  |  -0.022071838  |  [20.0002]\n",
            "4  |  2.2044587e-06  |  [ 20.0002    40.0004    60.000603  80.0008   100.001   ]  |  0.0022022247  |  [19.99998]\n",
            "5  |  1.929584e-08  |  [19.99998  39.99996  59.999943 79.99992  99.99991 ]  |  -0.00020599365  |  [20.000002]\n",
            "6  |  1.9281288e-10  |  [ 20.000002  40.000004  60.000008  80.00001  100.00001 ]  |  2.0217896e-05  |  [20.]\n",
            "7  |  0.0  |  [ 20.  40.  60.  80. 100.]  |  0.0  |  [20.]\n",
            "8  |  0.0  |  [ 20.  40.  60.  80. 100.]  |  0.0  |  [20.]\n",
            "9  |  0.0  |  [ 20.  40.  60.  80. 100.]  |  0.0  |  [20.]\n"
          ],
          "name": "stdout"
        }
      ]
    }
  ]
}